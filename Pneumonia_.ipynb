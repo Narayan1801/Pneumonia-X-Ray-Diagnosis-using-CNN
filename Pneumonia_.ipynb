{
  "nbformat": 4,
  "nbformat_minor": 0,
  "metadata": {
    "colab": {
      "name": "Pneumonia_.ipynb",
      "provenance": []
    },
    "kernelspec": {
      "name": "python3",
      "display_name": "Python 3"
    },
    "language_info": {
      "name": "python"
    }
  },
  "cells": [
    {
      "cell_type": "code",
      "execution_count": 1,
      "metadata": {
        "id": "b6PFdfiiJotK"
      },
      "outputs": [],
      "source": [
        "import os\n",
        "from PIL import Image\n",
        "\n",
        "# Keras Libraries\n",
        "import keras\n",
        "from keras.models import Sequential\n",
        "from keras.layers import Conv2D\n",
        "from keras.layers import MaxPooling2D\n",
        "from keras.layers import Flatten\n",
        "from keras.layers import Dense\n",
        "from keras.preprocessing.image import ImageDataGenerator"
      ]
    },
    {
      "cell_type": "code",
      "source": [
        "train_folder= '/content/drive/MyDrive/chest_xray/train'\n",
        "val_folder = '/content/drive/MyDrive/chest_xray/val'\n",
        "test_folder = '/content/drive/MyDrive/chest_xray/test'"
      ],
      "metadata": {
        "id": "GZP088NwMHqM"
      },
      "execution_count": 2,
      "outputs": []
    },
    {
      "cell_type": "code",
      "source": [
        "# train \n",
        "os.listdir(train_folder)\n",
        "train_n = train_folder+'NORMAL/'\n",
        "train_p = train_folder+'PNEUMONIA/'"
      ],
      "metadata": {
        "id": "vBTOlr6KTEC1"
      },
      "execution_count": 3,
      "outputs": []
    },
    {
      "cell_type": "code",
      "source": [
        "cnn = Sequential()\n",
        "\n",
        "#Convolution\n",
        "cnn.add(Conv2D(32, (3, 3), activation=\"relu\", input_shape=(64, 64, 3)))\n",
        "\n",
        "#Pooling\n",
        "cnn.add(MaxPooling2D(pool_size = (2, 2)))\n",
        "\n",
        "# 2nd Convolution\n",
        "cnn.add(Conv2D(32, (3, 3), activation=\"relu\"))\n",
        "\n",
        "# 2nd Pooling layer\n",
        "cnn.add(MaxPooling2D(pool_size = (2, 2)))\n",
        "\n",
        "# Flatten the layer\n",
        "cnn.add(Flatten())\n",
        "\n",
        "# Fully Connected Layers\n",
        "cnn.add(Dense(activation = 'relu', units = 128))\n",
        "cnn.add(Dense(activation = 'sigmoid', units = 1))\n"
      ],
      "metadata": {
        "id": "dqlLuLwITTRY"
      },
      "execution_count": 4,
      "outputs": []
    },
    {
      "cell_type": "code",
      "source": [
        "cnn.summary()"
      ],
      "metadata": {
        "colab": {
          "base_uri": "https://localhost:8080/"
        },
        "id": "oatk3qgwTqKg",
        "outputId": "87b1d84f-6b4d-4342-bc62-0dc0fd19ec22"
      },
      "execution_count": 5,
      "outputs": [
        {
          "output_type": "stream",
          "name": "stdout",
          "text": [
            "Model: \"sequential\"\n",
            "_________________________________________________________________\n",
            " Layer (type)                Output Shape              Param #   \n",
            "=================================================================\n",
            " conv2d (Conv2D)             (None, 62, 62, 32)        896       \n",
            "                                                                 \n",
            " max_pooling2d (MaxPooling2D  (None, 31, 31, 32)       0         \n",
            " )                                                               \n",
            "                                                                 \n",
            " conv2d_1 (Conv2D)           (None, 29, 29, 32)        9248      \n",
            "                                                                 \n",
            " max_pooling2d_1 (MaxPooling  (None, 14, 14, 32)       0         \n",
            " 2D)                                                             \n",
            "                                                                 \n",
            " flatten (Flatten)           (None, 6272)              0         \n",
            "                                                                 \n",
            " dense (Dense)               (None, 128)               802944    \n",
            "                                                                 \n",
            " dense_1 (Dense)             (None, 1)                 129       \n",
            "                                                                 \n",
            "=================================================================\n",
            "Total params: 813,217\n",
            "Trainable params: 813,217\n",
            "Non-trainable params: 0\n",
            "_________________________________________________________________\n"
          ]
        }
      ]
    },
    {
      "cell_type": "code",
      "source": [
        "# Compile the Neural network\n",
        "cnn.compile(optimizer = 'adam', loss = 'binary_crossentropy', metrics = ['accuracy'])"
      ],
      "metadata": {
        "id": "s30yiKWCTjrX"
      },
      "execution_count": 6,
      "outputs": []
    },
    {
      "cell_type": "code",
      "source": [
        "train_datagen = ImageDataGenerator(rescale = 1./255,\n",
        "                                   shear_range = 0.2,\n",
        "                                   zoom_range = 0.2,\n",
        "                                   horizontal_flip = True)\n",
        "\n",
        "test_datagen = ImageDataGenerator(rescale = 1./255)\n",
        "\n",
        "\n",
        "training_set = train_datagen.flow_from_directory(train_folder,\n",
        "                                           target_size = (64, 64),\n",
        "                                           batch_size = 32,\n",
        "                                           class_mode = 'binary')\n",
        "\n",
        "validation_set = test_datagen.flow_from_directory(val_folder,\n",
        "                                             target_size=(64, 64),\n",
        "                                             batch_size=32,\n",
        "                                             class_mode='binary')\n",
        "\n",
        "test_set = test_datagen.flow_from_directory(test_folder,\n",
        "                                       target_size = (64, 64),\n",
        "                                       batch_size = 32,\n",
        "                                       class_mode = 'binary')\n"
      ],
      "metadata": {
        "colab": {
          "base_uri": "https://localhost:8080/"
        },
        "id": "zhk4uUtSToxc",
        "outputId": "363f56b7-1108-4ac5-f009-71bc730cf354"
      },
      "execution_count": 7,
      "outputs": [
        {
          "output_type": "stream",
          "name": "stdout",
          "text": [
            "Found 5216 images belonging to 2 classes.\n",
            "Found 16 images belonging to 2 classes.\n",
            "Found 624 images belonging to 2 classes.\n"
          ]
        }
      ]
    },
    {
      "cell_type": "code",
      "source": [
        "cnn_model = cnn.fit(training_set,\n",
        "                    steps_per_epoch = 163,\n",
        "                    epochs = 10,\n",
        "                    validation_data = validation_set,\n",
        "                    validation_steps = 624)"
      ],
      "metadata": {
        "colab": {
          "base_uri": "https://localhost:8080/"
        },
        "id": "5iGDv2bvT7Wk",
        "outputId": "ba5243a3-3ade-42a7-88cf-8c87713c6f1a"
      },
      "execution_count": 8,
      "outputs": [
        {
          "output_type": "stream",
          "name": "stdout",
          "text": [
            "Epoch 1/10\n",
            "163/163 [==============================] - ETA: 0s - loss: 0.3287 - accuracy: 0.8602WARNING:tensorflow:Your input ran out of data; interrupting training. Make sure that your dataset or generator can generate at least `steps_per_epoch * epochs` batches (in this case, 624 batches). You may need to use the repeat() function when building your dataset.\n",
            "163/163 [==============================] - 102s 606ms/step - loss: 0.3287 - accuracy: 0.8602 - val_loss: 0.4039 - val_accuracy: 0.7500\n",
            "Epoch 2/10\n",
            "163/163 [==============================] - 96s 588ms/step - loss: 0.2338 - accuracy: 0.9053\n",
            "Epoch 3/10\n",
            "163/163 [==============================] - 96s 588ms/step - loss: 0.1965 - accuracy: 0.9208\n",
            "Epoch 4/10\n",
            "163/163 [==============================] - 97s 592ms/step - loss: 0.1884 - accuracy: 0.9248\n",
            "Epoch 5/10\n",
            "163/163 [==============================] - 96s 589ms/step - loss: 0.1752 - accuracy: 0.9344\n",
            "Epoch 6/10\n",
            "163/163 [==============================] - 96s 591ms/step - loss: 0.1567 - accuracy: 0.9394\n",
            "Epoch 7/10\n",
            "163/163 [==============================] - 96s 590ms/step - loss: 0.1505 - accuracy: 0.9410\n",
            "Epoch 8/10\n",
            "163/163 [==============================] - 96s 589ms/step - loss: 0.1482 - accuracy: 0.9415\n",
            "Epoch 9/10\n",
            "163/163 [==============================] - 96s 589ms/step - loss: 0.1331 - accuracy: 0.9511\n",
            "Epoch 10/10\n",
            "163/163 [==============================] - 96s 588ms/step - loss: 0.1409 - accuracy: 0.9456\n"
          ]
        }
      ]
    },
    {
      "cell_type": "code",
      "source": [
        "test_accu = cnn.evaluate(test_set)\n",
        "\n",
        "print('The testing accuracy is :',test_accu[1]*100, '%')"
      ],
      "metadata": {
        "colab": {
          "base_uri": "https://localhost:8080/"
        },
        "id": "Hd5c9mWIUECn",
        "outputId": "7dc7df9b-b1ba-4a88-ea4f-1e423821ebbc"
      },
      "execution_count": 9,
      "outputs": [
        {
          "output_type": "stream",
          "name": "stdout",
          "text": [
            "20/20 [==============================] - 8s 412ms/step - loss: 0.2777 - accuracy: 0.9135\n",
            "The testing accuracy is : 91.34615659713745 %\n"
          ]
        }
      ]
    },
    {
      "cell_type": "code",
      "source": [
        ""
      ],
      "metadata": {
        "id": "jUcBWFlBWNJO"
      },
      "execution_count": 9,
      "outputs": []
    }
  ]
}